{
 "metadata": {
  "language_info": {
   "codemirror_mode": {
    "name": "ipython",
    "version": 3
   },
   "file_extension": ".py",
   "mimetype": "text/x-python",
   "name": "python",
   "nbconvert_exporter": "python",
   "pygments_lexer": "ipython3",
   "version": "3.7.3-final"
  },
  "orig_nbformat": 2,
  "kernelspec": {
   "name": "Python 3.7.3 64-bit ('base': conda)",
   "display_name": "Python 3.7.3 64-bit ('base': conda)",
   "metadata": {
    "interpreter": {
     "hash": "e485353e654e899dc00ad95fc3b5096ee7f821147d6003bc703aa5d18d5307ab"
    }
   }
  }
 },
 "nbformat": 4,
 "nbformat_minor": 2,
 "cells": [
  {
   "cell_type": "code",
   "execution_count": 10,
   "metadata": {},
   "outputs": [],
   "source": [
    "import pandas as pd\n",
    "from datacleaner import autoclean"
   ]
  },
  {
   "cell_type": "code",
   "execution_count": 2,
   "metadata": {},
   "outputs": [],
   "source": [
    "from pandas_dedupe import dedupe_dataframe"
   ]
  },
  {
   "cell_type": "code",
   "execution_count": 5,
   "metadata": {},
   "outputs": [],
   "source": [
    "df = pd.read_csv(\"C:/Users/arijit/Downloads/Datasets/train_v9rqX0R.csv\")"
   ]
  },
  {
   "cell_type": "code",
   "execution_count": 6,
   "metadata": {},
   "outputs": [
    {
     "output_type": "execute_result",
     "data": {
      "text/plain": "Item_Identifier              False\nItem_Weight                   True\nItem_Fat_Content             False\nItem_Visibility              False\nItem_Type                    False\nItem_MRP                     False\nOutlet_Identifier            False\nOutlet_Establishment_Year    False\nOutlet_Size                   True\nOutlet_Location_Type         False\nOutlet_Type                  False\nItem_Outlet_Sales            False\ndtype: bool"
     },
     "metadata": {},
     "execution_count": 6
    }
   ],
   "source": [
    "df.isnull().any()"
   ]
  },
  {
   "cell_type": "code",
   "execution_count": 7,
   "metadata": {
    "tags": []
   },
   "outputs": [
    {
     "output_type": "stream",
     "name": "stdout",
     "text": "Importing data ...\nItem_Weight : 17.6\nOutlet_Size : None\n\nItem_Weight : None\nOutlet_Size : small\n\n0/10 positive, 0/10 negative\nDo these records refer to the same thing?\n(y)es / (n)o / (u)nsure / (f)inished\nStarting active labeling...\nItem_Weight : 12.15\nOutlet_Size : None\n\nItem_Weight : None\nOutlet_Size : medium\n\n0/10 positive, 1/10 negative\nDo these records refer to the same thing?\n(y)es / (n)o / (u)nsure / (f)inished / (p)revious\nItem_Weight : 5.59\nOutlet_Size : small\n\nItem_Weight : 11.8\nOutlet_Size : medium\n\n1/10 positive, 1/10 negative\nDo these records refer to the same thing?\n(y)es / (n)o / (u)nsure / (f)inished / (p)revious\nWARNING:dedupe.training:Ran out of predicates: Dedupe tries to find blocking rules that will work well with your data. Sometimes it can't find great ones, and you'll get this warning. It means that there are some pairs of true records that dedupe may never compare. If you are getting bad results, try increasing the `max_comparison` argument to the train method\nItem_Weight : 7.81\nOutlet_Size : medium\n\nItem_Weight : 12.6\nOutlet_Size : small\n\n2/10 positive, 1/10 negative\nDo these records refer to the same thing?\n(y)es / (n)o / (u)nsure / (f)inished / (p)revious\nWARNING:dedupe.training:Ran out of predicates: Dedupe tries to find blocking rules that will work well with your data. Sometimes it can't find great ones, and you'll get this warning. It means that there are some pairs of true records that dedupe may never compare. If you are getting bad results, try increasing the `max_comparison` argument to the train method\nItem_Weight : 6.15\nOutlet_Size : medium\n\nItem_Weight : 12.0\nOutlet_Size : small\n\n3/10 positive, 1/10 negative\nDo these records refer to the same thing?\n(y)es / (n)o / (u)nsure / (f)inished / (p)revious\nItem_Weight : 12.3\nOutlet_Size : medium\n\nItem_Weight : 8.27\nOutlet_Size : small\n\n4/10 positive, 1/10 negative\nDo these records refer to the same thing?\n(y)es / (n)o / (u)nsure / (f)inished / (p)revious\nFinished labeling\nWARNING:dedupe.training:Ran out of predicates: Dedupe tries to find blocking rules that will work well with your data. Sometimes it can't find great ones, and you'll get this warning. It means that there are some pairs of true records that dedupe may never compare. If you are getting bad results, try increasing the `max_comparison` argument to the train method\nWARNING:dedupe.training:Ran out of predicates: Dedupe tries to find blocking rules that will work well with your data. Sometimes it can't find great ones, and you'll get this warning. It means that there are some pairs of true records that dedupe may never compare. If you are getting bad results, try increasing the `max_comparison` argument to the train method\nClustering...\n# duplicate sets 532\n"
    }
   ],
   "source": [
    "dd = dedupe_dataframe(df, ['Item_Weight', 'Outlet_Size'], canonicalize=True, sample_size=1)"
   ]
  },
  {
   "cell_type": "code",
   "execution_count": 11,
   "metadata": {},
   "outputs": [],
   "source": [
    "my_clean_data = autoclean(df.copy())"
   ]
  },
  {
   "cell_type": "code",
   "execution_count": 14,
   "metadata": {},
   "outputs": [],
   "source": [
    "col_list = list(my_clean_data.columns)"
   ]
  },
  {
   "cell_type": "code",
   "execution_count": 16,
   "metadata": {},
   "outputs": [],
   "source": [
    "col_list.remove('Item_Outlet_Sales')"
   ]
  },
  {
   "cell_type": "code",
   "execution_count": 21,
   "metadata": {},
   "outputs": [
    {
     "output_type": "execute_result",
     "data": {
      "text/plain": "                            x                  y   ppscore        case  \\\n0           Outlet_Identifier  Item_Outlet_Sales  0.003114  regression   \n1   Outlet_Establishment_Year  Item_Outlet_Sales  0.003024  regression   \n2                 Outlet_Type  Item_Outlet_Sales  0.002859  regression   \n3             Item_Identifier  Item_Outlet_Sales  0.000000  regression   \n4                 Item_Weight  Item_Outlet_Sales  0.000000  regression   \n5            Item_Fat_Content  Item_Outlet_Sales  0.000000  regression   \n6             Item_Visibility  Item_Outlet_Sales  0.000000  regression   \n7                   Item_Type  Item_Outlet_Sales  0.000000  regression   \n8                    Item_MRP  Item_Outlet_Sales  0.000000  regression   \n9                 Outlet_Size  Item_Outlet_Sales  0.000000  regression   \n10       Outlet_Location_Type  Item_Outlet_Sales  0.000000  regression   \n\n    is_valid_score               metric  baseline_score  model_score  \\\n0             True  mean absolute error        879.0296   876.292363   \n1             True  mean absolute error        879.0296   876.371133   \n2             True  mean absolute error        879.0296   876.516697   \n3             True  mean absolute error        879.0296   963.262883   \n4             True  mean absolute error        879.0296   901.979614   \n5             True  mean absolute error        879.0296   883.063129   \n6             True  mean absolute error        879.0296  1140.993904   \n7             True  mean absolute error        879.0296   884.070032   \n8             True  mean absolute error        879.0296  1070.137250   \n9             True  mean absolute error        879.0296   881.149227   \n10            True  mean absolute error        879.0296   881.065965   \n\n                                                model  \n0   DecisionTreeRegressor(criterion='mse', max_dep...  \n1   DecisionTreeRegressor(criterion='mse', max_dep...  \n2   DecisionTreeRegressor(criterion='mse', max_dep...  \n3   DecisionTreeRegressor(criterion='mse', max_dep...  \n4   DecisionTreeRegressor(criterion='mse', max_dep...  \n5   DecisionTreeRegressor(criterion='mse', max_dep...  \n6   DecisionTreeRegressor(criterion='mse', max_dep...  \n7   DecisionTreeRegressor(criterion='mse', max_dep...  \n8   DecisionTreeRegressor(criterion='mse', max_dep...  \n9   DecisionTreeRegressor(criterion='mse', max_dep...  \n10  DecisionTreeRegressor(criterion='mse', max_dep...  ",
      "text/html": "<div>\n<style scoped>\n    .dataframe tbody tr th:only-of-type {\n        vertical-align: middle;\n    }\n\n    .dataframe tbody tr th {\n        vertical-align: top;\n    }\n\n    .dataframe thead th {\n        text-align: right;\n    }\n</style>\n<table border=\"1\" class=\"dataframe\">\n  <thead>\n    <tr style=\"text-align: right;\">\n      <th></th>\n      <th>x</th>\n      <th>y</th>\n      <th>ppscore</th>\n      <th>case</th>\n      <th>is_valid_score</th>\n      <th>metric</th>\n      <th>baseline_score</th>\n      <th>model_score</th>\n      <th>model</th>\n    </tr>\n  </thead>\n  <tbody>\n    <tr>\n      <th>0</th>\n      <td>Outlet_Identifier</td>\n      <td>Item_Outlet_Sales</td>\n      <td>0.003114</td>\n      <td>regression</td>\n      <td>True</td>\n      <td>mean absolute error</td>\n      <td>879.0296</td>\n      <td>876.292363</td>\n      <td>DecisionTreeRegressor(criterion='mse', max_dep...</td>\n    </tr>\n    <tr>\n      <th>1</th>\n      <td>Outlet_Establishment_Year</td>\n      <td>Item_Outlet_Sales</td>\n      <td>0.003024</td>\n      <td>regression</td>\n      <td>True</td>\n      <td>mean absolute error</td>\n      <td>879.0296</td>\n      <td>876.371133</td>\n      <td>DecisionTreeRegressor(criterion='mse', max_dep...</td>\n    </tr>\n    <tr>\n      <th>2</th>\n      <td>Outlet_Type</td>\n      <td>Item_Outlet_Sales</td>\n      <td>0.002859</td>\n      <td>regression</td>\n      <td>True</td>\n      <td>mean absolute error</td>\n      <td>879.0296</td>\n      <td>876.516697</td>\n      <td>DecisionTreeRegressor(criterion='mse', max_dep...</td>\n    </tr>\n    <tr>\n      <th>3</th>\n      <td>Item_Identifier</td>\n      <td>Item_Outlet_Sales</td>\n      <td>0.000000</td>\n      <td>regression</td>\n      <td>True</td>\n      <td>mean absolute error</td>\n      <td>879.0296</td>\n      <td>963.262883</td>\n      <td>DecisionTreeRegressor(criterion='mse', max_dep...</td>\n    </tr>\n    <tr>\n      <th>4</th>\n      <td>Item_Weight</td>\n      <td>Item_Outlet_Sales</td>\n      <td>0.000000</td>\n      <td>regression</td>\n      <td>True</td>\n      <td>mean absolute error</td>\n      <td>879.0296</td>\n      <td>901.979614</td>\n      <td>DecisionTreeRegressor(criterion='mse', max_dep...</td>\n    </tr>\n    <tr>\n      <th>5</th>\n      <td>Item_Fat_Content</td>\n      <td>Item_Outlet_Sales</td>\n      <td>0.000000</td>\n      <td>regression</td>\n      <td>True</td>\n      <td>mean absolute error</td>\n      <td>879.0296</td>\n      <td>883.063129</td>\n      <td>DecisionTreeRegressor(criterion='mse', max_dep...</td>\n    </tr>\n    <tr>\n      <th>6</th>\n      <td>Item_Visibility</td>\n      <td>Item_Outlet_Sales</td>\n      <td>0.000000</td>\n      <td>regression</td>\n      <td>True</td>\n      <td>mean absolute error</td>\n      <td>879.0296</td>\n      <td>1140.993904</td>\n      <td>DecisionTreeRegressor(criterion='mse', max_dep...</td>\n    </tr>\n    <tr>\n      <th>7</th>\n      <td>Item_Type</td>\n      <td>Item_Outlet_Sales</td>\n      <td>0.000000</td>\n      <td>regression</td>\n      <td>True</td>\n      <td>mean absolute error</td>\n      <td>879.0296</td>\n      <td>884.070032</td>\n      <td>DecisionTreeRegressor(criterion='mse', max_dep...</td>\n    </tr>\n    <tr>\n      <th>8</th>\n      <td>Item_MRP</td>\n      <td>Item_Outlet_Sales</td>\n      <td>0.000000</td>\n      <td>regression</td>\n      <td>True</td>\n      <td>mean absolute error</td>\n      <td>879.0296</td>\n      <td>1070.137250</td>\n      <td>DecisionTreeRegressor(criterion='mse', max_dep...</td>\n    </tr>\n    <tr>\n      <th>9</th>\n      <td>Outlet_Size</td>\n      <td>Item_Outlet_Sales</td>\n      <td>0.000000</td>\n      <td>regression</td>\n      <td>True</td>\n      <td>mean absolute error</td>\n      <td>879.0296</td>\n      <td>881.149227</td>\n      <td>DecisionTreeRegressor(criterion='mse', max_dep...</td>\n    </tr>\n    <tr>\n      <th>10</th>\n      <td>Outlet_Location_Type</td>\n      <td>Item_Outlet_Sales</td>\n      <td>0.000000</td>\n      <td>regression</td>\n      <td>True</td>\n      <td>mean absolute error</td>\n      <td>879.0296</td>\n      <td>881.065965</td>\n      <td>DecisionTreeRegressor(criterion='mse', max_dep...</td>\n    </tr>\n  </tbody>\n</table>\n</div>"
     },
     "metadata": {},
     "execution_count": 21
    }
   ],
   "source": [
    "pps.predictors(my_clean_data, y=\"Item_Outlet_Sales\",cross_validation=4,random_seed=123)"
   ]
  }
 ]
}